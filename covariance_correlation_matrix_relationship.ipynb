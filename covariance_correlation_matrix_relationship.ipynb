{
 "cells": [
  {
   "cell_type": "code",
   "execution_count": 2,
   "id": "847331d8",
   "metadata": {},
   "outputs": [],
   "source": [
    "import numpy as np\n",
    "from scipy.stats import stats"
   ]
  },
  {
   "cell_type": "code",
   "execution_count": 35,
   "id": "b01e5a93",
   "metadata": {},
   "outputs": [],
   "source": [
    "N = 10\n",
    "x1 = np.random.randn(N)\n",
    "x2 = x1 + np.random.randn(N)\n",
    "x3 = np.random.randn(N) + 4\n",
    "x4 = x2*np.random.randn(N)\n",
    "\n",
    "m1 = np.mean(x1)\n",
    "m2 = np.mean(x2)\n",
    "m3 = np.mean(x3)\n",
    "m4 = np.mean(x4)\n",
    "\n",
    "s1 = np.std(x1,ddof=1)\n",
    "s2 = np.std(x2,ddof=1)\n",
    "s3 = np.std(x3,ddof=1)\n",
    "s4 = np.std(x4,ddof=1)\n",
    "\n",
    "s = np.array([s1,s2,s3,s4])"
   ]
  },
  {
   "cell_type": "code",
   "execution_count": 36,
   "id": "ae0272cb",
   "metadata": {},
   "outputs": [],
   "source": [
    "data = np.array([x1,x2,x3,x4]).T"
   ]
  },
  {
   "cell_type": "code",
   "execution_count": 37,
   "id": "6ca72a86",
   "metadata": {},
   "outputs": [
    {
     "name": "stdout",
     "output_type": "stream",
     "text": [
      "[[ 1.          0.88510527  0.36983365 -0.15992269]\n",
      " [ 0.88510527  1.          0.08292608 -0.38631218]\n",
      " [ 0.36983365  0.08292608  1.          0.36297881]\n",
      " [-0.15992269 -0.38631218  0.36297881  1.        ]]\n",
      "[[ 0.93502095  1.35604389  0.34765576 -0.07340721]\n",
      " [ 1.35604389  2.51036167  0.12772962 -0.29055243]\n",
      " [ 0.34765576  0.12772962  0.94507151  0.16750647]\n",
      " [-0.07340721 -0.29055243  0.16750647  0.22533878]]\n"
     ]
    }
   ],
   "source": [
    "R = np.corrcoef(data.T)\n",
    "C = np.cov(data.T)\n",
    "print(R)\n",
    "print(C)"
   ]
  },
  {
   "cell_type": "code",
   "execution_count": 38,
   "id": "4a0cbc49",
   "metadata": {},
   "outputs": [],
   "source": [
    "S = np.zeros((4,4))\n",
    "\n",
    "for i, row in enumerate(S):\n",
    "    \n",
    "    S[i][i] = s[i]"
   ]
  },
  {
   "cell_type": "markdown",
   "id": "4eb667ba",
   "metadata": {},
   "source": [
    "##### Testing that C = SRS"
   ]
  },
  {
   "cell_type": "code",
   "execution_count": 39,
   "id": "b9bed501",
   "metadata": {},
   "outputs": [],
   "source": [
    "C_computed = S @ R @ S"
   ]
  },
  {
   "cell_type": "code",
   "execution_count": 40,
   "id": "1538526a",
   "metadata": {},
   "outputs": [
    {
     "data": {
      "text/plain": [
       "(array([[ 0.93502095,  1.35604389,  0.34765576, -0.07340721],\n",
       "        [ 1.35604389,  2.51036167,  0.12772962, -0.29055243],\n",
       "        [ 0.34765576,  0.12772962,  0.94507151,  0.16750647],\n",
       "        [-0.07340721, -0.29055243,  0.16750647,  0.22533878]]),\n",
       " array([[ 0.93502095,  1.35604389,  0.34765576, -0.07340721],\n",
       "        [ 1.35604389,  2.51036167,  0.12772962, -0.29055243],\n",
       "        [ 0.34765576,  0.12772962,  0.94507151,  0.16750647],\n",
       "        [-0.07340721, -0.29055243,  0.16750647,  0.22533878]]))"
      ]
     },
     "execution_count": 40,
     "metadata": {},
     "output_type": "execute_result"
    }
   ],
   "source": [
    "C, C_computed"
   ]
  },
  {
   "cell_type": "code",
   "execution_count": null,
   "id": "4eb4a0ff",
   "metadata": {},
   "outputs": [],
   "source": []
  }
 ],
 "metadata": {
  "kernelspec": {
   "display_name": "Python 3 (ipykernel)",
   "language": "python",
   "name": "python3"
  },
  "language_info": {
   "codemirror_mode": {
    "name": "ipython",
    "version": 3
   },
   "file_extension": ".py",
   "mimetype": "text/x-python",
   "name": "python",
   "nbconvert_exporter": "python",
   "pygments_lexer": "ipython3",
   "version": "3.10.4"
  }
 },
 "nbformat": 4,
 "nbformat_minor": 5
}
